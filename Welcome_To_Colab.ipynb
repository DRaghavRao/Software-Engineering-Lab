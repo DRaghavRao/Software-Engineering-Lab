{
  "cells": [
    {
      "cell_type": "markdown",
      "metadata": {
        "id": "view-in-github",
        "colab_type": "text"
      },
      "source": [
        "<a href=\"https://colab.research.google.com/github/DRaghavRao/Software-Engineering-Lab/blob/main/Welcome_To_Colab.ipynb\" target=\"_parent\"><img src=\"https://colab.research.google.com/assets/colab-badge.svg\" alt=\"Open In Colab\"/></a>"
      ]
    },
    {
      "cell_type": "code",
      "source": [
        "def determine_weather_condition(T, H, W):\n",
        "    weather_index = 0.3 * (T ** 2) - 0.3 * H + 0.1 * W - 15\n",
        "    if weather_index > 50:\n",
        "        return \"Sunny\"\n",
        "    elif 25 <= weather_index <= 50:\n",
        "        return \"Cloudy\"\n",
        "    elif 0 <= weather_index < 25:\n",
        "        return \"Rainy\"\n",
        "    else:\n",
        "        return \"Stormy\"\n",
        "try:\n",
        "    T = float(input(\"Enter temperature (°C): \"))\n",
        "    H = float(input(\"Enter humidity (%): \"))\n",
        "    W = float(input(\"Enter wind speed (km/h): \"))\n",
        "    weather_condition = determine_weather_condition(T, H, W)\n",
        "    print(f\"The weather condition is likely: {weather_condition}\")\n",
        "\n",
        "except ValueError:\n",
        "    print(\"Invalid input. Please enter numeric values for temperature, humidity, and wind speed.\")\n"
      ],
      "metadata": {
        "colab": {
          "base_uri": "https://localhost:8080/"
        },
        "id": "XqRv6bbtdYF0",
        "outputId": "4b636232-dc4a-44e3-dafd-5fe321ec1001"
      },
      "execution_count": null,
      "outputs": [
        {
          "output_type": "stream",
          "name": "stdout",
          "text": [
            "Enter temperature (°C): 19\n",
            "Enter humidity (%): 52\n",
            "Enter wind speed (km/h): 8\n",
            "The weather condition is likely: Sunny\n"
          ]
        }
      ]
    },
    {
      "cell_type": "code",
      "source": [],
      "metadata": {
        "id": "9shrp3HMogYN"
      },
      "execution_count": null,
      "outputs": []
    },
    {
      "cell_type": "code",
      "source": [
        "import pandas as pd\n",
        "\n",
        "def process_excel(file_path):\n",
        "    try:\n",
        "        df = pd.read_excel(file_path)\n",
        "        required_columns = {'Temperature', 'Humidity', 'Wind Speed'}\n",
        "        if not required_columns.issubset(df.columns):\n",
        "            print(\"File must include 'Temperature', 'Humidity', and 'Wind Speed' columns.\")\n",
        "            return\n",
        "        def calculate_prediction_and_category(row):\n",
        "            P = 0.5 * row['Temperature']**2 - 0.2 * row['Humidity'] + 0.1 * row['Wind Speed'] - 15\n",
        "            if P > 300:\n",
        "                category = \"Stormy\"\n",
        "            elif P > 100:\n",
        "                category = \"Rainy\"\n",
        "            elif P > 0:\n",
        "                category = \"Cloudy\"\n",
        "            else:\n",
        "                category = \"Sunny\"\n",
        "            return P, category\n",
        "\n",
        "        df['Prediction'], df['Category'] = zip(*df.apply(calculate_prediction_and_category, axis=1))\n",
        "        print(df[['Temperature', 'Humidity', 'Wind Speed', 'Prediction', 'Category']])\n",
        "    except FileNotFoundError:\n",
        "        print(\"File not found. Check the file path.\")\n",
        "    except Exception as e:\n",
        "        print(f\"Error: {e}\")\n",
        "if __name__ == \"__main__\":\n",
        "    file_path = input(\"Enter the Excel file path: \")\n",
        "    process_excel(file_path)\n"
      ],
      "metadata": {
        "id": "_4lmyXwykpx9",
        "outputId": "de7943b3-f55c-4e94-e436-c1b154ce03a1",
        "colab": {
          "base_uri": "https://localhost:8080/"
        }
      },
      "execution_count": 6,
      "outputs": [
        {
          "output_type": "stream",
          "name": "stdout",
          "text": [
            "Enter the Excel file path: /content/weather_data_with_location.xlsx\n",
            "   Temperature  Humidity  Wind Speed  Prediction Category\n",
            "0           20        50          86       183.6    Rainy\n",
            "1           25        60          45       290.0    Rainy\n",
            "2           30        55          60       430.0   Stormy\n",
            "3           28        65          55       369.5   Stormy\n",
            "4           35        70          40       587.5   Stormy\n"
          ]
        }
      ]
    }
  ],
  "metadata": {
    "colab": {
      "name": "Welcome To Colab",
      "provenance": [],
      "include_colab_link": true
    },
    "kernelspec": {
      "display_name": "Python 3",
      "name": "python3"
    }
  },
  "nbformat": 4,
  "nbformat_minor": 0
}