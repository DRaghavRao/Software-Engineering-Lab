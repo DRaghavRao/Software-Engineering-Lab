{
  "cells": [
    {
      "cell_type": "markdown",
      "metadata": {
        "id": "view-in-github",
        "colab_type": "text"
      },
      "source": [
        "<a href=\"https://colab.research.google.com/github/DRaghavRao/Software-Engineering-Lab/blob/main/Welcome_To_Colab.ipynb\" target=\"_parent\"><img src=\"https://colab.research.google.com/assets/colab-badge.svg\" alt=\"Open In Colab\"/></a>"
      ]
    },
    {
      "cell_type": "code",
      "source": [
        "def determine_weather_condition(T, H, W):\n",
        "    \"\"\"\n",
        "    Determine the weather condition based on the formula:\n",
        "    Weather Index = 0.3 * T^2 - 0.3 * H + 0.1 * W - 15\n",
        "\n",
        "    Inputs:\n",
        "    - T: Temperature (°C)\n",
        "    - H: Humidity (%)\n",
        "    - W: Wind Speed (km/h)\n",
        "\n",
        "    Returns:\n",
        "    - A string describing the likely weather condition (Sunny, Rainy, Cloudy, Stormy).\n",
        "    \"\"\"\n",
        "    # Calculate the weather index\n",
        "    weather_index = 0.3 * (T ** 2) - 0.3 * H + 0.1 * W - 15\n",
        "\n",
        "    # Classify the weather based on thresholds\n",
        "    if weather_index > 50:\n",
        "        return \"Sunny\"\n",
        "    elif 25 <= weather_index <= 50:\n",
        "        return \"Cloudy\"\n",
        "    elif 0 <= weather_index < 25:\n",
        "        return \"Rainy\"\n",
        "    else:\n",
        "        return \"Stormy\"\n",
        "\n",
        "# User input\n",
        "try:\n",
        "    T = float(input(\"Enter temperature (°C): \"))\n",
        "    H = float(input(\"Enter humidity (%): \"))\n",
        "    W = float(input(\"Enter wind speed (km/h): \"))\n",
        "\n",
        "    # Determine the weather condition\n",
        "    weather_condition = determine_weather_condition(T, H, W)\n",
        "    print(f\"The weather condition is likely: {weather_condition}\")\n",
        "\n",
        "except ValueError:\n",
        "    print(\"Invalid input. Please enter numeric values for temperature, humidity, and wind speed.\")\n"
      ],
      "metadata": {
        "colab": {
          "base_uri": "https://localhost:8080/"
        },
        "id": "XqRv6bbtdYF0",
        "outputId": "4b636232-dc4a-44e3-dafd-5fe321ec1001"
      },
      "execution_count": 4,
      "outputs": [
        {
          "output_type": "stream",
          "name": "stdout",
          "text": [
            "Enter temperature (°C): 19\n",
            "Enter humidity (%): 52\n",
            "Enter wind speed (km/h): 8\n",
            "The weather condition is likely: Sunny\n"
          ]
        }
      ]
    }
  ],
  "metadata": {
    "colab": {
      "name": "Welcome To Colab",
      "toc_visible": true,
      "provenance": [],
      "include_colab_link": true
    },
    "kernelspec": {
      "display_name": "Python 3",
      "name": "python3"
    }
  },
  "nbformat": 4,
  "nbformat_minor": 0
}